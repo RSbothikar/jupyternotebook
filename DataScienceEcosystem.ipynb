{
 "cells": [
  {
   "cell_type": "markdown",
   "id": "3ec2cb7a-38c4-4af8-9c65-3ea2cc1db083",
   "metadata": {},
   "source": [
    "Data Science Tools and Ecosystem"
   ]
  },
  {
   "cell_type": "markdown",
   "id": "a7f02a58-43c2-4f52-95f2-43d190c4acb5",
   "metadata": {},
   "source": [
    "In this notebook, Data Science Tools and Ecosystem are summarized"
   ]
  },
  {
   "cell_type": "markdown",
   "id": "3f86e60a-10dc-404d-813f-78144d1186bc",
   "metadata": {},
   "source": [
    "some of the popular languages that Data scientists use are:\n",
    "1.python\n",
    "2.R\n",
    "3.scala"
   ]
  },
  {
   "cell_type": "markdown",
   "id": "40846ddd-48e1-4e8b-8064-4e52dab70269",
   "metadata": {},
   "source": [
    "some of the commnly used libraries used by Data scientists include:\n",
    "1.Numpy\n",
    "2.pandas\n",
    "3.matplotlib"
   ]
  },
  {
   "cell_type": "markdown",
   "id": "3b389e6d-b66c-4487-8362-8a2e0278af56",
   "metadata": {},
   "source": [
    "Data science Tools:\n",
    "1.SQL\n",
    "2.power bi\n",
    "3.talblue"
   ]
  },
  {
   "cell_type": "markdown",
   "id": "82344627-c391-45e5-85b2-58515b176813",
   "metadata": {},
   "source": [
    "Below are a few example of evaluating arithmetic expression in python"
   ]
  },
  {
   "cell_type": "code",
   "execution_count": 1,
   "id": "d49a7a68-77dd-4c4b-a644-a8c0f3426382",
   "metadata": {},
   "outputs": [
    {
     "data": {
      "text/plain": [
       "17"
      ]
     },
     "execution_count": 1,
     "metadata": {},
     "output_type": "execute_result"
    }
   ],
   "source": [
    "(3*4)+5"
   ]
  },
  {
   "cell_type": "code",
   "execution_count": 2,
   "id": "346dd7fc-f9a2-402e-a4dc-af139607e1e0",
   "metadata": {},
   "outputs": [
    {
     "name": "stdout",
     "output_type": "stream",
     "text": [
      "3.3333333333333335\n"
     ]
    }
   ],
   "source": [
    "a=200\n",
    "b=60\n",
    "c=a/b\n",
    "print(c)"
   ]
  },
  {
   "cell_type": "markdown",
   "id": "46d750ff-9295-4e6f-b773-12fa1eb122ac",
   "metadata": {},
   "source": [
    "this will convert 200 minutes to hours by deviding by 60"
   ]
  },
  {
   "cell_type": "markdown",
   "id": "410f0bf6-2a86-4d64-a1ff-5a13630fb80e",
   "metadata": {},
   "source": [
    "list popular languages for data science:\n",
    "python,R,scala"
   ]
  },
  {
   "cell_type": "code",
   "execution_count": null,
   "id": "b0c42bae-5f01-4524-92c9-b90379ebbebb",
   "metadata": {},
   "outputs": [],
   "source": [
    "Author - Rohan"
   ]
  },
  {
   "cell_type": "code",
   "execution_count": null,
   "id": "4677d448-20da-49df-b66e-fb79bd2c3146",
   "metadata": {},
   "outputs": [],
   "source": []
  }
 ],
 "metadata": {
  "kernelspec": {
   "display_name": "Python 3 (ipykernel)",
   "language": "python",
   "name": "python3"
  },
  "language_info": {
   "codemirror_mode": {
    "name": "ipython",
    "version": 3
   },
   "file_extension": ".py",
   "mimetype": "text/x-python",
   "name": "python",
   "nbconvert_exporter": "python",
   "pygments_lexer": "ipython3",
   "version": "3.12.8"
  }
 },
 "nbformat": 4,
 "nbformat_minor": 5
}
